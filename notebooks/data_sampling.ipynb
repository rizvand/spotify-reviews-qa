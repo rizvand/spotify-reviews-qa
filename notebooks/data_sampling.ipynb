{
 "cells": [
  {
   "cell_type": "markdown",
   "metadata": {},
   "source": [
    "# Data Preprocessing & Sampling"
   ]
  },
  {
   "cell_type": "code",
   "execution_count": 1,
   "metadata": {},
   "outputs": [],
   "source": [
    "import pandas as pd\n",
    "\n",
    "# Assuming raw data `SPOTIFIY_REVIEWS.csv` is located under `data` folder\n",
    "df = pd.read_csv(\"../data/SPOTIFY_REVIEWS.csv\")\n",
    "\n",
    "selected_columns = [\n",
    "    \"review_text\", \n",
    "    \"review_rating\", \n",
    "    \"review_likes\", \n",
    "    \"author_app_version\", \n",
    "    \"review_timestamp\"\n",
    "]\n",
    "\n",
    "df = df[selected_columns]"
   ]
  },
  {
   "cell_type": "code",
   "execution_count": 2,
   "metadata": {},
   "outputs": [],
   "source": [
    "import pandas as pd\n",
    "import json\n",
    "\n",
    "def get_top_rows_by_rating(df, n=100, sort_column='review_likes'):\n",
    "    \"\"\"\n",
    "    Get top rows for each review rating, sorted by a specified column.\n",
    "\n",
    "    Parameters:\n",
    "    - df (pd.DataFrame): Input DataFrame.\n",
    "    - n (int): Number of top rows to retrieve for each rating (default is 100).\n",
    "    - sort_column (str): Column to sort the rows by (default is 'review_likes').\n",
    "\n",
    "    Returns:\n",
    "    - dict: Dictionary where keys are review ratings, and values are DataFrames.\n",
    "    \"\"\"\n",
    "    # Ensure 'n' is a positive integer\n",
    "    if not isinstance(n, int) or n <= 0:\n",
    "        raise ValueError(\"'n' should be a positive integer greater than 0.\")\n",
    "\n",
    "    # Ensure 'sort_column' is a valid column in the DataFrame\n",
    "    if sort_column not in df.columns:\n",
    "        raise ValueError(f\"'{sort_column}' is not a valid column in the DataFrame.\")\n",
    "\n",
    "    # Create a dictionary to store DataFrames for each rating\n",
    "    result_dict = {}\n",
    "    df_combined = pd.DataFrame()\n",
    "\n",
    "    # Iterate over the review ratings (5 to 1)\n",
    "    for rating in range(5, 0, -1):\n",
    "        # Filter rows where \"review_rating\" equals the current rating\n",
    "        rating_rows = df[df['review_rating'] == rating]\n",
    "\n",
    "        # Sort the filtered rows by specified column and take the top 'n' rows\n",
    "        top_rows = rating_rows.sort_values(by=sort_column, ascending=False).head(n)\n",
    "\n",
    "        df_combined = df_combined.append(top_rows)\n",
    "\n",
    "    return df_combined"
   ]
  },
  {
   "cell_type": "code",
   "execution_count": 4,
   "metadata": {},
   "outputs": [
    {
     "name": "stderr",
     "output_type": "stream",
     "text": [
      "/var/folders/zk/ng4zd00946bg1mnt_08_yp280000gn/T/ipykernel_26768/2961873607.py:36: FutureWarning: The frame.append method is deprecated and will be removed from pandas in a future version. Use pandas.concat instead.\n",
      "  df_combined = df_combined.append(top_rows)\n",
      "/var/folders/zk/ng4zd00946bg1mnt_08_yp280000gn/T/ipykernel_26768/2961873607.py:36: FutureWarning: The frame.append method is deprecated and will be removed from pandas in a future version. Use pandas.concat instead.\n",
      "  df_combined = df_combined.append(top_rows)\n",
      "/var/folders/zk/ng4zd00946bg1mnt_08_yp280000gn/T/ipykernel_26768/2961873607.py:36: FutureWarning: The frame.append method is deprecated and will be removed from pandas in a future version. Use pandas.concat instead.\n",
      "  df_combined = df_combined.append(top_rows)\n",
      "/var/folders/zk/ng4zd00946bg1mnt_08_yp280000gn/T/ipykernel_26768/2961873607.py:36: FutureWarning: The frame.append method is deprecated and will be removed from pandas in a future version. Use pandas.concat instead.\n",
      "  df_combined = df_combined.append(top_rows)\n",
      "/var/folders/zk/ng4zd00946bg1mnt_08_yp280000gn/T/ipykernel_26768/2961873607.py:36: FutureWarning: The frame.append method is deprecated and will be removed from pandas in a future version. Use pandas.concat instead.\n",
      "  df_combined = df_combined.append(top_rows)\n"
     ]
    }
   ],
   "source": [
    "# Get DataFrames by rating with top 20 rows and sorting by 'review_likes'\n",
    "most_liked_reviews = get_top_rows_by_rating(df=df, n=20, sort_column='review_likes')\n",
    "json_data = most_liked_reviews.to_dict(orient='records')\n",
    "\n",
    "# Convert DataFrames to JSON\n",
    "with open('../data/preprocessed/sampled_reviews.jsonl', 'w') as outfile:\n",
    "    for entry in json_data:\n",
    "        json.dump(entry, outfile)\n",
    "        outfile.write('\\n')"
   ]
  },
  {
   "cell_type": "code",
   "execution_count": null,
   "metadata": {},
   "outputs": [],
   "source": []
  }
 ],
 "metadata": {
  "kernelspec": {
   "display_name": "Python 3",
   "language": "python",
   "name": "python3"
  },
  "language_info": {
   "codemirror_mode": {
    "name": "ipython",
    "version": 3
   },
   "file_extension": ".py",
   "mimetype": "text/x-python",
   "name": "python",
   "nbconvert_exporter": "python",
   "pygments_lexer": "ipython3",
   "version": "3.10.8"
  }
 },
 "nbformat": 4,
 "nbformat_minor": 2
}
